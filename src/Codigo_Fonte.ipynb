{
 "cells": [
  {
   "cell_type": "markdown",
   "metadata": {},
   "source": [
    "# Análise da base de dados por meio do algoritmo k-Nearest Neighbors (kNN)"
   ]
  },
  {
   "cell_type": "markdown",
   "metadata": {},
   "source": [
    "## Bibliotecas necessárias"
   ]
  },
  {
   "cell_type": "code",
   "execution_count": 137,
   "metadata": {},
   "outputs": [],
   "source": [
    "import pandas as pd\n",
    "import numpy as np\n",
    "import matplotlib.pyplot as plt\n",
    "import seaborn as sns\n",
    "from sklearn.neighbors import KNeighborsRegressor\n",
    "from sklearn.metrics import mean_absolute_error, root_mean_squared_error\n",
    "from sklearn.model_selection import train_test_split, cross_val_predict, cross_val_score\n",
    "from imblearn.over_sampling import SMOTE\n",
    "from sklearn.model_selection import KFold"
   ]
  },
  {
   "cell_type": "markdown",
   "metadata": {},
   "source": [
    "# Carregando a base de dados numa planilha do Google Sheets"
   ]
  },
  {
   "cell_type": "code",
   "execution_count": 138,
   "metadata": {},
   "outputs": [
    {
     "data": {
      "text/html": [
       "<div>\n",
       "<style scoped>\n",
       "    .dataframe tbody tr th:only-of-type {\n",
       "        vertical-align: middle;\n",
       "    }\n",
       "\n",
       "    .dataframe tbody tr th {\n",
       "        vertical-align: top;\n",
       "    }\n",
       "\n",
       "    .dataframe thead th {\n",
       "        text-align: right;\n",
       "    }\n",
       "</style>\n",
       "<table border=\"1\" class=\"dataframe\">\n",
       "  <thead>\n",
       "    <tr style=\"text-align: right;\">\n",
       "      <th></th>\n",
       "      <th>rank</th>\n",
       "      <th>channel_info</th>\n",
       "      <th>influence_score</th>\n",
       "      <th>posts</th>\n",
       "      <th>followers</th>\n",
       "      <th>avg_likes</th>\n",
       "      <th>60_day_eng_rate</th>\n",
       "      <th>new_post_avg_like</th>\n",
       "      <th>total_likes</th>\n",
       "      <th>country</th>\n",
       "    </tr>\n",
       "  </thead>\n",
       "  <tbody>\n",
       "    <tr>\n",
       "      <th>0</th>\n",
       "      <td>1</td>\n",
       "      <td>cristiano</td>\n",
       "      <td>92</td>\n",
       "      <td>3.3k</td>\n",
       "      <td>475.8m</td>\n",
       "      <td>8.7m</td>\n",
       "      <td>1.39%</td>\n",
       "      <td>6.5m</td>\n",
       "      <td>29.0b</td>\n",
       "      <td>Spain</td>\n",
       "    </tr>\n",
       "    <tr>\n",
       "      <th>1</th>\n",
       "      <td>2</td>\n",
       "      <td>kyliejenner</td>\n",
       "      <td>91</td>\n",
       "      <td>6.9k</td>\n",
       "      <td>366.2m</td>\n",
       "      <td>8.3m</td>\n",
       "      <td>1.62%</td>\n",
       "      <td>5.9m</td>\n",
       "      <td>57.4b</td>\n",
       "      <td>United States</td>\n",
       "    </tr>\n",
       "    <tr>\n",
       "      <th>2</th>\n",
       "      <td>3</td>\n",
       "      <td>leomessi</td>\n",
       "      <td>90</td>\n",
       "      <td>0.89k</td>\n",
       "      <td>357.3m</td>\n",
       "      <td>6.8m</td>\n",
       "      <td>1.24%</td>\n",
       "      <td>4.4m</td>\n",
       "      <td>6.0b</td>\n",
       "      <td>NaN</td>\n",
       "    </tr>\n",
       "    <tr>\n",
       "      <th>3</th>\n",
       "      <td>4</td>\n",
       "      <td>selenagomez</td>\n",
       "      <td>93</td>\n",
       "      <td>1.8k</td>\n",
       "      <td>342.7m</td>\n",
       "      <td>6.2m</td>\n",
       "      <td>0.97%</td>\n",
       "      <td>3.3m</td>\n",
       "      <td>11.5b</td>\n",
       "      <td>United States</td>\n",
       "    </tr>\n",
       "    <tr>\n",
       "      <th>4</th>\n",
       "      <td>5</td>\n",
       "      <td>therock</td>\n",
       "      <td>91</td>\n",
       "      <td>6.8k</td>\n",
       "      <td>334.1m</td>\n",
       "      <td>1.9m</td>\n",
       "      <td>0.20%</td>\n",
       "      <td>665.3k</td>\n",
       "      <td>12.5b</td>\n",
       "      <td>United States</td>\n",
       "    </tr>\n",
       "  </tbody>\n",
       "</table>\n",
       "</div>"
      ],
      "text/plain": [
       "   rank channel_info  influence_score  posts followers avg_likes  \\\n",
       "0     1    cristiano               92   3.3k    475.8m      8.7m   \n",
       "1     2  kyliejenner               91   6.9k    366.2m      8.3m   \n",
       "2     3     leomessi               90  0.89k    357.3m      6.8m   \n",
       "3     4  selenagomez               93   1.8k    342.7m      6.2m   \n",
       "4     5      therock               91   6.8k    334.1m      1.9m   \n",
       "\n",
       "  60_day_eng_rate new_post_avg_like total_likes        country  \n",
       "0           1.39%              6.5m       29.0b          Spain  \n",
       "1           1.62%              5.9m       57.4b  United States  \n",
       "2           1.24%              4.4m        6.0b            NaN  \n",
       "3           0.97%              3.3m       11.5b  United States  \n",
       "4           0.20%            665.3k       12.5b  United States  "
      ]
     },
     "execution_count": 138,
     "metadata": {},
     "output_type": "execute_result"
    }
   ],
   "source": [
    "url = r\"https://docs.google.com/spreadsheets/d/e/2PACX-1vTSEtC2uCzOX9-5zgkIkuqyZA51Z5nGlem0Y5w6kbLPcmzENBe0yujL9WAGBDgT9y7VBQniOlMg4Baf/pub?output=csv\"\n",
    "\n",
    "insta_df = pd.read_csv(url)\n",
    "\n",
    "insta_df.head()"
   ]
  },
  {
   "cell_type": "markdown",
   "metadata": {},
   "source": [
    "# Conhecendo a base"
   ]
  },
  {
   "cell_type": "code",
   "execution_count": 139,
   "metadata": {},
   "outputs": [
    {
     "data": {
      "text/html": [
       "<div>\n",
       "<style scoped>\n",
       "    .dataframe tbody tr th:only-of-type {\n",
       "        vertical-align: middle;\n",
       "    }\n",
       "\n",
       "    .dataframe tbody tr th {\n",
       "        vertical-align: top;\n",
       "    }\n",
       "\n",
       "    .dataframe thead th {\n",
       "        text-align: right;\n",
       "    }\n",
       "</style>\n",
       "<table border=\"1\" class=\"dataframe\">\n",
       "  <thead>\n",
       "    <tr style=\"text-align: right;\">\n",
       "      <th></th>\n",
       "      <th>rank</th>\n",
       "      <th>influence_score</th>\n",
       "    </tr>\n",
       "  </thead>\n",
       "  <tbody>\n",
       "    <tr>\n",
       "      <th>count</th>\n",
       "      <td>200.000000</td>\n",
       "      <td>200.000000</td>\n",
       "    </tr>\n",
       "    <tr>\n",
       "      <th>mean</th>\n",
       "      <td>100.500000</td>\n",
       "      <td>81.820000</td>\n",
       "    </tr>\n",
       "    <tr>\n",
       "      <th>std</th>\n",
       "      <td>57.879185</td>\n",
       "      <td>8.878159</td>\n",
       "    </tr>\n",
       "    <tr>\n",
       "      <th>min</th>\n",
       "      <td>1.000000</td>\n",
       "      <td>22.000000</td>\n",
       "    </tr>\n",
       "    <tr>\n",
       "      <th>25%</th>\n",
       "      <td>50.750000</td>\n",
       "      <td>80.000000</td>\n",
       "    </tr>\n",
       "    <tr>\n",
       "      <th>50%</th>\n",
       "      <td>100.500000</td>\n",
       "      <td>84.000000</td>\n",
       "    </tr>\n",
       "    <tr>\n",
       "      <th>75%</th>\n",
       "      <td>150.250000</td>\n",
       "      <td>86.000000</td>\n",
       "    </tr>\n",
       "    <tr>\n",
       "      <th>max</th>\n",
       "      <td>200.000000</td>\n",
       "      <td>93.000000</td>\n",
       "    </tr>\n",
       "  </tbody>\n",
       "</table>\n",
       "</div>"
      ],
      "text/plain": [
       "             rank  influence_score\n",
       "count  200.000000       200.000000\n",
       "mean   100.500000        81.820000\n",
       "std     57.879185         8.878159\n",
       "min      1.000000        22.000000\n",
       "25%     50.750000        80.000000\n",
       "50%    100.500000        84.000000\n",
       "75%    150.250000        86.000000\n",
       "max    200.000000        93.000000"
      ]
     },
     "execution_count": 139,
     "metadata": {},
     "output_type": "execute_result"
    }
   ],
   "source": [
    "insta_df.describe()"
   ]
  },
  {
   "cell_type": "markdown",
   "metadata": {},
   "source": []
  },
  {
   "cell_type": "code",
   "execution_count": 140,
   "metadata": {},
   "outputs": [
    {
     "name": "stdout",
     "output_type": "stream",
     "text": [
      "<class 'pandas.core.frame.DataFrame'>\n",
      "RangeIndex: 200 entries, 0 to 199\n",
      "Data columns (total 10 columns):\n",
      " #   Column             Non-Null Count  Dtype \n",
      "---  ------             --------------  ----- \n",
      " 0   rank               200 non-null    int64 \n",
      " 1   channel_info       200 non-null    object\n",
      " 2   influence_score    200 non-null    int64 \n",
      " 3   posts              200 non-null    object\n",
      " 4   followers          200 non-null    object\n",
      " 5   avg_likes          200 non-null    object\n",
      " 6   60_day_eng_rate    200 non-null    object\n",
      " 7   new_post_avg_like  200 non-null    object\n",
      " 8   total_likes        200 non-null    object\n",
      " 9   country            138 non-null    object\n",
      "dtypes: int64(2), object(8)\n",
      "memory usage: 15.8+ KB\n"
     ]
    }
   ],
   "source": [
    "insta_df.info()"
   ]
  },
  {
   "cell_type": "code",
   "execution_count": 141,
   "metadata": {},
   "outputs": [
    {
     "data": {
      "text/plain": [
       "country\n",
       "United States             66\n",
       "Brazil                    13\n",
       "India                     12\n",
       "Indonesia                  7\n",
       "France                     6\n",
       "Spain                      5\n",
       "United Kingdom             4\n",
       "Colombia                   3\n",
       "Canada                     3\n",
       "Mexico                     2\n",
       "Turkey                     2\n",
       "Netherlands                2\n",
       "Switzerland                1\n",
       "Germany                    1\n",
       "Czech Republic             1\n",
       "British Virgin Islands     1\n",
       "Sweden                     1\n",
       "Australia                  1\n",
       "Anguilla                   1\n",
       "CÃ´te d'Ivoire             1\n",
       "Puerto Rico                1\n",
       "United Arab Emirates       1\n",
       "Italy                      1\n",
       "Uruguay                    1\n",
       "Russia                     1\n",
       "Name: count, dtype: int64"
      ]
     },
     "execution_count": 141,
     "metadata": {},
     "output_type": "execute_result"
    }
   ],
   "source": [
    "insta_df['country'].value_counts()"
   ]
  },
  {
   "cell_type": "markdown",
   "metadata": {},
   "source": [
    "# Tratando os dados"
   ]
  },
  {
   "cell_type": "markdown",
   "metadata": {},
   "source": [
    "## Convertendo os sufixos das colunas que seriam numéricas"
   ]
  },
  {
   "cell_type": "code",
   "execution_count": 142,
   "metadata": {},
   "outputs": [
    {
     "data": {
      "text/html": [
       "<div>\n",
       "<style scoped>\n",
       "    .dataframe tbody tr th:only-of-type {\n",
       "        vertical-align: middle;\n",
       "    }\n",
       "\n",
       "    .dataframe tbody tr th {\n",
       "        vertical-align: top;\n",
       "    }\n",
       "\n",
       "    .dataframe thead th {\n",
       "        text-align: right;\n",
       "    }\n",
       "</style>\n",
       "<table border=\"1\" class=\"dataframe\">\n",
       "  <thead>\n",
       "    <tr style=\"text-align: right;\">\n",
       "      <th></th>\n",
       "      <th>rank</th>\n",
       "      <th>channel_info</th>\n",
       "      <th>influence_score</th>\n",
       "      <th>posts</th>\n",
       "      <th>followers</th>\n",
       "      <th>avg_likes</th>\n",
       "      <th>60_day_eng_rate</th>\n",
       "      <th>new_post_avg_like</th>\n",
       "      <th>total_likes</th>\n",
       "      <th>country</th>\n",
       "    </tr>\n",
       "  </thead>\n",
       "  <tbody>\n",
       "    <tr>\n",
       "      <th>0</th>\n",
       "      <td>1</td>\n",
       "      <td>cristiano</td>\n",
       "      <td>92</td>\n",
       "      <td>3300</td>\n",
       "      <td>475800000</td>\n",
       "      <td>8700000</td>\n",
       "      <td>1.39%</td>\n",
       "      <td>6500000</td>\n",
       "      <td>29000000000</td>\n",
       "      <td>Spain</td>\n",
       "    </tr>\n",
       "    <tr>\n",
       "      <th>1</th>\n",
       "      <td>2</td>\n",
       "      <td>kyliejenner</td>\n",
       "      <td>91</td>\n",
       "      <td>6900</td>\n",
       "      <td>366200000</td>\n",
       "      <td>8300000</td>\n",
       "      <td>1.62%</td>\n",
       "      <td>5900000</td>\n",
       "      <td>57400000000</td>\n",
       "      <td>United States</td>\n",
       "    </tr>\n",
       "    <tr>\n",
       "      <th>2</th>\n",
       "      <td>3</td>\n",
       "      <td>leomessi</td>\n",
       "      <td>90</td>\n",
       "      <td>890</td>\n",
       "      <td>357300000</td>\n",
       "      <td>6800000</td>\n",
       "      <td>1.24%</td>\n",
       "      <td>4400000</td>\n",
       "      <td>6000000000</td>\n",
       "      <td>NaN</td>\n",
       "    </tr>\n",
       "  </tbody>\n",
       "</table>\n",
       "</div>"
      ],
      "text/plain": [
       "   rank channel_info  influence_score  posts  followers  avg_likes  \\\n",
       "0     1    cristiano               92   3300  475800000    8700000   \n",
       "1     2  kyliejenner               91   6900  366200000    8300000   \n",
       "2     3     leomessi               90    890  357300000    6800000   \n",
       "\n",
       "  60_day_eng_rate  new_post_avg_like  total_likes        country  \n",
       "0           1.39%            6500000  29000000000          Spain  \n",
       "1           1.62%            5900000  57400000000  United States  \n",
       "2           1.24%            4400000   6000000000            NaN  "
      ]
     },
     "execution_count": 142,
     "metadata": {},
     "output_type": "execute_result"
    }
   ],
   "source": [
    "# Função para converter valores com sufixos 'b', 'm' e 'k' para int\n",
    "def converter_sufixo(valor):\n",
    "    if isinstance(valor, str):\n",
    "        if 'b' in valor:\n",
    "            return int(float(valor.replace('b', '')) * 1e9)\n",
    "        elif 'm' in valor:\n",
    "            return int(float(valor.replace('m', '')) * 1e6)\n",
    "        elif 'k' in valor:\n",
    "            return int(float(valor.replace('k', '')) * 1e3)\n",
    "    return valor\n",
    "\n",
    "colunas_num = ['posts', 'followers', 'avg_likes', 'new_post_avg_like', 'total_likes']\n",
    "\n",
    "# Aplicar a função nas colunas\n",
    "for col in colunas_num:\n",
    "    insta_df[col] = insta_df[col].apply(converter_sufixo)\n",
    "\n",
    "# Transformar em int64\n",
    "for col in colunas_num:\n",
    "    insta_df[col] = insta_df[col].astype(np.int64)\n",
    "\n",
    "insta_df.head(3)"
   ]
  },
  {
   "cell_type": "markdown",
   "metadata": {},
   "source": [
    "## Retirando o '%' da coluna 60_day_eng_rate"
   ]
  },
  {
   "cell_type": "code",
   "execution_count": 143,
   "metadata": {},
   "outputs": [
    {
     "data": {
      "text/html": [
       "<div>\n",
       "<style scoped>\n",
       "    .dataframe tbody tr th:only-of-type {\n",
       "        vertical-align: middle;\n",
       "    }\n",
       "\n",
       "    .dataframe tbody tr th {\n",
       "        vertical-align: top;\n",
       "    }\n",
       "\n",
       "    .dataframe thead th {\n",
       "        text-align: right;\n",
       "    }\n",
       "</style>\n",
       "<table border=\"1\" class=\"dataframe\">\n",
       "  <thead>\n",
       "    <tr style=\"text-align: right;\">\n",
       "      <th></th>\n",
       "      <th>rank</th>\n",
       "      <th>channel_info</th>\n",
       "      <th>influence_score</th>\n",
       "      <th>posts</th>\n",
       "      <th>followers</th>\n",
       "      <th>avg_likes</th>\n",
       "      <th>60_day_eng_rate</th>\n",
       "      <th>new_post_avg_like</th>\n",
       "      <th>total_likes</th>\n",
       "      <th>country</th>\n",
       "    </tr>\n",
       "  </thead>\n",
       "  <tbody>\n",
       "    <tr>\n",
       "      <th>0</th>\n",
       "      <td>1</td>\n",
       "      <td>cristiano</td>\n",
       "      <td>92</td>\n",
       "      <td>3300</td>\n",
       "      <td>475800000</td>\n",
       "      <td>8700000</td>\n",
       "      <td>0.0139</td>\n",
       "      <td>6500000</td>\n",
       "      <td>29000000000</td>\n",
       "      <td>Spain</td>\n",
       "    </tr>\n",
       "    <tr>\n",
       "      <th>1</th>\n",
       "      <td>2</td>\n",
       "      <td>kyliejenner</td>\n",
       "      <td>91</td>\n",
       "      <td>6900</td>\n",
       "      <td>366200000</td>\n",
       "      <td>8300000</td>\n",
       "      <td>0.0162</td>\n",
       "      <td>5900000</td>\n",
       "      <td>57400000000</td>\n",
       "      <td>United States</td>\n",
       "    </tr>\n",
       "    <tr>\n",
       "      <th>2</th>\n",
       "      <td>3</td>\n",
       "      <td>leomessi</td>\n",
       "      <td>90</td>\n",
       "      <td>890</td>\n",
       "      <td>357300000</td>\n",
       "      <td>6800000</td>\n",
       "      <td>0.0124</td>\n",
       "      <td>4400000</td>\n",
       "      <td>6000000000</td>\n",
       "      <td>NaN</td>\n",
       "    </tr>\n",
       "  </tbody>\n",
       "</table>\n",
       "</div>"
      ],
      "text/plain": [
       "   rank channel_info  influence_score  posts  followers  avg_likes  \\\n",
       "0     1    cristiano               92   3300  475800000    8700000   \n",
       "1     2  kyliejenner               91   6900  366200000    8300000   \n",
       "2     3     leomessi               90    890  357300000    6800000   \n",
       "\n",
       "   60_day_eng_rate  new_post_avg_like  total_likes        country  \n",
       "0           0.0139            6500000  29000000000          Spain  \n",
       "1           0.0162            5900000  57400000000  United States  \n",
       "2           0.0124            4400000   6000000000            NaN  "
      ]
     },
     "execution_count": 143,
     "metadata": {},
     "output_type": "execute_result"
    }
   ],
   "source": [
    "# Função para remover '%' e dividir por 100\n",
    "def converter_percentual(valor):\n",
    "    if isinstance(valor, str) and '%' in valor:\n",
    "        return float(valor.replace('%', '')) / 100\n",
    "    return valor\n",
    "\n",
    "insta_df['60_day_eng_rate'] = insta_df['60_day_eng_rate'].apply(converter_percentual)\n",
    "insta_df['60_day_eng_rate'] = insta_df['60_day_eng_rate'].astype(np.float64)\n",
    "\n",
    "insta_df.head(3)"
   ]
  },
  {
   "cell_type": "markdown",
   "metadata": {},
   "source": [
    "## Mapear os continentes para cada país"
   ]
  },
  {
   "cell_type": "code",
   "execution_count": 144,
   "metadata": {},
   "outputs": [
    {
     "data": {
      "text/html": [
       "<div>\n",
       "<style scoped>\n",
       "    .dataframe tbody tr th:only-of-type {\n",
       "        vertical-align: middle;\n",
       "    }\n",
       "\n",
       "    .dataframe tbody tr th {\n",
       "        vertical-align: top;\n",
       "    }\n",
       "\n",
       "    .dataframe thead th {\n",
       "        text-align: right;\n",
       "    }\n",
       "</style>\n",
       "<table border=\"1\" class=\"dataframe\">\n",
       "  <thead>\n",
       "    <tr style=\"text-align: right;\">\n",
       "      <th></th>\n",
       "      <th>rank</th>\n",
       "      <th>channel_info</th>\n",
       "      <th>influence_score</th>\n",
       "      <th>posts</th>\n",
       "      <th>followers</th>\n",
       "      <th>avg_likes</th>\n",
       "      <th>60_day_eng_rate</th>\n",
       "      <th>new_post_avg_like</th>\n",
       "      <th>total_likes</th>\n",
       "      <th>country</th>\n",
       "      <th>continent_code</th>\n",
       "    </tr>\n",
       "  </thead>\n",
       "  <tbody>\n",
       "    <tr>\n",
       "      <th>195</th>\n",
       "      <td>196</td>\n",
       "      <td>iambeckyg</td>\n",
       "      <td>71</td>\n",
       "      <td>2300</td>\n",
       "      <td>33200000</td>\n",
       "      <td>623800</td>\n",
       "      <td>0.0140</td>\n",
       "      <td>464700</td>\n",
       "      <td>1400000000</td>\n",
       "      <td>United States</td>\n",
       "      <td>21.0</td>\n",
       "    </tr>\n",
       "    <tr>\n",
       "      <th>196</th>\n",
       "      <td>197</td>\n",
       "      <td>nancyajram</td>\n",
       "      <td>81</td>\n",
       "      <td>3800</td>\n",
       "      <td>33200000</td>\n",
       "      <td>390400</td>\n",
       "      <td>0.0064</td>\n",
       "      <td>208000</td>\n",
       "      <td>1500000000</td>\n",
       "      <td>France</td>\n",
       "      <td>41.0</td>\n",
       "    </tr>\n",
       "    <tr>\n",
       "      <th>197</th>\n",
       "      <td>198</td>\n",
       "      <td>luansantana</td>\n",
       "      <td>79</td>\n",
       "      <td>770</td>\n",
       "      <td>33200000</td>\n",
       "      <td>193300</td>\n",
       "      <td>0.0026</td>\n",
       "      <td>82600</td>\n",
       "      <td>149200000</td>\n",
       "      <td>Brazil</td>\n",
       "      <td>1.0</td>\n",
       "    </tr>\n",
       "    <tr>\n",
       "      <th>198</th>\n",
       "      <td>199</td>\n",
       "      <td>nickjonas</td>\n",
       "      <td>78</td>\n",
       "      <td>2300</td>\n",
       "      <td>33000000</td>\n",
       "      <td>719600</td>\n",
       "      <td>0.0142</td>\n",
       "      <td>467700</td>\n",
       "      <td>1700000000</td>\n",
       "      <td>United States</td>\n",
       "      <td>21.0</td>\n",
       "    </tr>\n",
       "    <tr>\n",
       "      <th>199</th>\n",
       "      <td>200</td>\n",
       "      <td>raisa6690</td>\n",
       "      <td>80</td>\n",
       "      <td>4200</td>\n",
       "      <td>32799999</td>\n",
       "      <td>232200</td>\n",
       "      <td>0.0030</td>\n",
       "      <td>97400</td>\n",
       "      <td>969100000</td>\n",
       "      <td>Indonesia</td>\n",
       "      <td>80.0</td>\n",
       "    </tr>\n",
       "  </tbody>\n",
       "</table>\n",
       "</div>"
      ],
      "text/plain": [
       "     rank channel_info  influence_score  posts  followers  avg_likes  \\\n",
       "195   196    iambeckyg               71   2300   33200000     623800   \n",
       "196   197   nancyajram               81   3800   33200000     390400   \n",
       "197   198  luansantana               79    770   33200000     193300   \n",
       "198   199    nickjonas               78   2300   33000000     719600   \n",
       "199   200    raisa6690               80   4200   32799999     232200   \n",
       "\n",
       "     60_day_eng_rate  new_post_avg_like  total_likes        country  \\\n",
       "195           0.0140             464700   1400000000  United States   \n",
       "196           0.0064             208000   1500000000         France   \n",
       "197           0.0026              82600    149200000         Brazil   \n",
       "198           0.0142             467700   1700000000  United States   \n",
       "199           0.0030              97400    969100000      Indonesia   \n",
       "\n",
       "     continent_code  \n",
       "195            21.0  \n",
       "196            41.0  \n",
       "197             1.0  \n",
       "198            21.0  \n",
       "199            80.0  "
      ]
     },
     "execution_count": 144,
     "metadata": {},
     "output_type": "execute_result"
    }
   ],
   "source": [
    "mapa_continentes = {'Brazil': 1, \n",
    "                    'Uruguay': 2,  \n",
    "                    'Colombia': 3,\n",
    "                    'British Virgin Islands': 10,\n",
    "                    'Puerto Rico': 11,\n",
    "                    'Anguilla': 12,\n",
    "                    'Mexico': 20, \n",
    "                    'United States': 21,\n",
    "                    'Canada': 22,  \n",
    "                    'Germany': 40, \n",
    "                    'France': 41, \n",
    "                    'United Kingdom': 42,\n",
    "                    'Russia': 43,\n",
    "                    'Italy': 44, \n",
    "                    'Sweden': 45,\n",
    "                    'Netherlands': 46,\n",
    "                    'Czech Republic': 47,\n",
    "                    'Switzerland': 48,\n",
    "                    'Spain': 49,\n",
    "                    'Turkey': 50,  \n",
    "                    'India': 60, \n",
    "                    'United Arab Emirates': 61,\n",
    "                    \"CÃ´te d'Ivoire\": 70,\n",
    "                    'Indonesia': 80,\n",
    "                    'Australia': 100}\n",
    "\n",
    "# Função para mapear países a continentes\n",
    "def mapear_continente(pais):\n",
    "    return mapa_continentes.get(pais, None)\n",
    "\n",
    "# Aplicar a função na coluna 'country'\n",
    "insta_df['continent_code'] = insta_df['country'].apply(mapear_continente)\n",
    "\n",
    "insta_df.tail()\n"
   ]
  },
  {
   "cell_type": "markdown",
   "metadata": {},
   "source": [
    "Aqui o código de continente foi adicionado de modo manual, baseado numa distância linear entre continentes"
   ]
  },
  {
   "cell_type": "markdown",
   "metadata": {},
   "source": [
    "# Análise exploratória"
   ]
  },
  {
   "cell_type": "markdown",
   "metadata": {},
   "source": [
    "## Correlações entre variáveis"
   ]
  },
  {
   "cell_type": "code",
   "execution_count": 145,
   "metadata": {},
   "outputs": [
    {
     "data": {
      "image/png": "[encoded data removed]",
      "text/plain": [
       "<Figure size 1500x800 with 2 Axes>"
      ]
     },
     "metadata": {},
     "output_type": "display_data"
    }
   ],
   "source": [
    "corr = insta_df.corr(numeric_only=True)\n",
    "\n",
    "plt.figure(figsize=(15, 8))\n",
    "sns.heatmap(corr, cmap='coolwarm', fmt='.2f')\n",
    "plt.title('Matriz de Correlação')\n",
    "plt.show()"
   ]
  },
  {
   "cell_type": "markdown",
   "metadata": {},
   "source": [
    "### Relação entre followers e avg_likes\n",
    "\n",
    "As colunas tem correlação positiva fraca, o que é contraintuitivo, visto que a ideia é que quanto maior a quantidade de seguidores, a média de likes cresceria na mesma proporção. Isso pode sugerir que apenas uma parcela dos novos seguidores realmente curtem os posts do influencer."
   ]
  },
  {
   "cell_type": "markdown",
   "metadata": {},
   "source": [
    "### Impacto de 60_day_eng_rate na taxa de engajamento (influence_score)\n",
    "\n",
    "A taxa de engajamento dos últimos 60 dias apresenta correlação nula com a taxa de engajamento do influencer.\n",
    "Isso pode ser explicado talvez pelo fato de que pessoas muito famosas não perdem o engajamento mesmo estando dias sem fazer um post. Essas pessoas recebem muitas curtidas independente do intervalo de tempo entre os posts."
   ]
  },
  {
   "cell_type": "markdown",
   "metadata": {},
   "source": [
    "# Preparando os dados para o modelo"
   ]
  },
  {
   "cell_type": "code",
   "execution_count": 146,
   "metadata": {},
   "outputs": [],
   "source": [
    "features = ['posts', 'followers', 'avg_likes', '60_day_eng_rate', 'new_post_avg_like', 'total_likes', 'continent_code']\n",
    "target = 'influence_score'"
   ]
  },
  {
   "cell_type": "markdown",
   "metadata": {},
   "source": [
    "Nesse modelo está sendo considerado como target a coluna 'influence_score', para modelar a relação de como os valores das features determinam a taxa de influência do usuário."
   ]
  },
  {
   "cell_type": "markdown",
   "metadata": {},
   "source": [
    "## Apagar linhas que contenham valores NaN na coluna 'continent_code'"
   ]
  },
  {
   "cell_type": "code",
   "execution_count": 147,
   "metadata": {},
   "outputs": [
    {
     "data": {
      "text/plain": [
       "62"
      ]
     },
     "execution_count": 147,
     "metadata": {},
     "output_type": "execute_result"
    }
   ],
   "source": [
    "insta_df['continent_code'].isna().sum()   #Muitos dados NaN, o dataframe já possuia poucos dados, isso irá influenciar no desempenho do modelo"
   ]
  },
  {
   "cell_type": "code",
   "execution_count": 148,
   "metadata": {},
   "outputs": [
    {
     "data": {
      "text/plain": [
       "0"
      ]
     },
     "execution_count": 148,
     "metadata": {},
     "output_type": "execute_result"
    }
   ],
   "source": [
    "insta_df.dropna(inplace=True)\n",
    "insta_df['continent_code'].isna().sum()"
   ]
  },
  {
   "cell_type": "markdown",
   "metadata": {},
   "source": [
    "## Normalizando colunas numéricas para valores de 0 a 1"
   ]
  },
  {
   "cell_type": "code",
   "execution_count": 149,
   "metadata": {},
   "outputs": [],
   "source": [
    "from sklearn.preprocessing import MinMaxScaler\n",
    "\n",
    "def normalizar_colunas(df, colunas):\n",
    "    \"\"\"\n",
    "    Função para normalizar colunas numéricas entre 0 e 1 usando MinMaxScaler.\n",
    "    \n",
    "    df: DataFrame a ser normalizado\n",
    "    colunas: Lista de colunas a serem normalizadas\n",
    "    \n",
    "    Retorna o DataFrame com as colunas normalizadas.\n",
    "    \"\"\"\n",
    "    scaler = MinMaxScaler()\n",
    "    df[colunas] = scaler.fit_transform(df[colunas])\n",
    "    return df"
   ]
  },
  {
   "cell_type": "code",
   "execution_count": 150,
   "metadata": {},
   "outputs": [
    {
     "data": {
      "text/html": [
       "<div>\n",
       "<style scoped>\n",
       "    .dataframe tbody tr th:only-of-type {\n",
       "        vertical-align: middle;\n",
       "    }\n",
       "\n",
       "    .dataframe tbody tr th {\n",
       "        vertical-align: top;\n",
       "    }\n",
       "\n",
       "    .dataframe thead th {\n",
       "        text-align: right;\n",
       "    }\n",
       "</style>\n",
       "<table border=\"1\" class=\"dataframe\">\n",
       "  <thead>\n",
       "    <tr style=\"text-align: right;\">\n",
       "      <th></th>\n",
       "      <th>rank</th>\n",
       "      <th>channel_info</th>\n",
       "      <th>influence_score</th>\n",
       "      <th>posts</th>\n",
       "      <th>followers</th>\n",
       "      <th>avg_likes</th>\n",
       "      <th>60_day_eng_rate</th>\n",
       "      <th>new_post_avg_like</th>\n",
       "      <th>total_likes</th>\n",
       "      <th>country</th>\n",
       "      <th>continent_code</th>\n",
       "    </tr>\n",
       "  </thead>\n",
       "  <tbody>\n",
       "    <tr>\n",
       "      <th>0</th>\n",
       "      <td>1</td>\n",
       "      <td>cristiano</td>\n",
       "      <td>92</td>\n",
       "      <td>0.187643</td>\n",
       "      <td>1.000000</td>\n",
       "      <td>1.000000</td>\n",
       "      <td>0.134766</td>\n",
       "      <td>1.000000</td>\n",
       "      <td>0.505069</td>\n",
       "      <td>Spain</td>\n",
       "      <td>0.484848</td>\n",
       "    </tr>\n",
       "    <tr>\n",
       "      <th>1</th>\n",
       "      <td>2</td>\n",
       "      <td>kyliejenner</td>\n",
       "      <td>91</td>\n",
       "      <td>0.393593</td>\n",
       "      <td>0.752596</td>\n",
       "      <td>0.953676</td>\n",
       "      <td>0.157227</td>\n",
       "      <td>0.907692</td>\n",
       "      <td>1.000000</td>\n",
       "      <td>United States</td>\n",
       "      <td>0.202020</td>\n",
       "    </tr>\n",
       "    <tr>\n",
       "      <th>3</th>\n",
       "      <td>4</td>\n",
       "      <td>selenagomez</td>\n",
       "      <td>93</td>\n",
       "      <td>0.101831</td>\n",
       "      <td>0.699549</td>\n",
       "      <td>0.710477</td>\n",
       "      <td>0.093750</td>\n",
       "      <td>0.507692</td>\n",
       "      <td>0.200093</td>\n",
       "      <td>United States</td>\n",
       "      <td>0.202020</td>\n",
       "    </tr>\n",
       "  </tbody>\n",
       "</table>\n",
       "</div>"
      ],
      "text/plain": [
       "   rank channel_info  influence_score     posts  followers  avg_likes  \\\n",
       "0     1    cristiano               92  0.187643   1.000000   1.000000   \n",
       "1     2  kyliejenner               91  0.393593   0.752596   0.953676   \n",
       "3     4  selenagomez               93  0.101831   0.699549   0.710477   \n",
       "\n",
       "   60_day_eng_rate  new_post_avg_like  total_likes        country  \\\n",
       "0         0.134766           1.000000     0.505069          Spain   \n",
       "1         0.157227           0.907692     1.000000  United States   \n",
       "3         0.093750           0.507692     0.200093  United States   \n",
       "\n",
       "   continent_code  \n",
       "0        0.484848  \n",
       "1        0.202020  \n",
       "3        0.202020  "
      ]
     },
     "execution_count": 150,
     "metadata": {},
     "output_type": "execute_result"
    }
   ],
   "source": [
    "normalizar_colunas(insta_df, features)\n",
    "\n",
    "insta_df.head(3)"
   ]
  },
  {
   "cell_type": "markdown",
   "metadata": {},
   "source": [
    "# Criando o modelo kNN"
   ]
  },
  {
   "cell_type": "code",
   "execution_count": 151,
   "metadata": {},
   "outputs": [],
   "source": [
    "def n_neighbors_visualization(df, features, target, quant_neighbors, mae=True, rmse=True):\n",
    "    '''\n",
    "    Função para visualizar diferentes desempenhos do algoritmo KNN para regressão com validação cruzada.\n",
    "        df: DataFrame a ser utilizado\n",
    "        features: Lista com as colunas do dataframe para treino e teste\n",
    "        target: Nome da coluna target para previsão\n",
    "        quant_neighbors: Quantidade máxima de vizinhos do KNN (K) para treinar e visualizar\n",
    "        mae: Se False, oculta o erro absoluto médio da visualização (Standard = True)\n",
    "        rmse: Se False, oculta a raiz do erro quadrático médio da visualização (Standard = True)\n",
    "    '''\n",
    "    \n",
    "    mae_list = []\n",
    "    rmse_list = []\n",
    "\n",
    "    X = df[features]\n",
    "    y = df[target]\n",
    "\n",
    "    for i in range(1, quant_neighbors + 1):\n",
    "        knn = KNeighborsRegressor(n_neighbors=i, n_jobs=-1)  # criando o modelo com K=i\n",
    "        \n",
    "        # Validação cruzada\n",
    "        y_pred = cross_val_predict(knn, X, y, cv=10, n_jobs=-1)\n",
    "        \n",
    "        # Erro absoluto médio\n",
    "        mae_val = mean_absolute_error(y, y_pred)\n",
    "        mae_list.append(mae_val)\n",
    "        \n",
    "        # Raiz do erro quadrático médio\n",
    "        rmse_val = root_mean_squared_error(y, y_pred)\n",
    "        rmse_list.append(rmse_val)\n",
    "\n",
    "    # Encontrando os melhores MAE e RMSE e os valores de K correspondentes\n",
    "    best_mae = min(mae_list)\n",
    "    best_k_mae = mae_list.index(best_mae) + 1\n",
    "    best_rmse = min(rmse_list)\n",
    "    best_k_rmse = rmse_list.index(best_rmse) + 1\n",
    "\n",
    "    if mae:\n",
    "        plt.figure(figsize=(15, 5))\n",
    "        plt.plot(range(1, len(mae_list) + 1), mae_list)\n",
    "        plt.xlabel('Número de vizinhos')\n",
    "        plt.ylabel('Erro Absoluto Médio')\n",
    "        plt.title('Erro Absoluto Médio por n° de vizinhos')\n",
    "\n",
    "        # Adicionando os valores de MAE em cada ponto\n",
    "        for i, val in enumerate(mae_list, start=1):\n",
    "            plt.text(i, val, f'{val:.4f}', fontsize=9, ha='center', va='bottom')\n",
    "        plt.show()\n",
    "        print(f\"Melhor MAE: {best_mae:.4f} com K = {best_k_mae}\")\n",
    "\n",
    "    if rmse:\n",
    "        plt.figure(figsize=(15, 5))\n",
    "        plt.plot(range(1, len(rmse_list) + 1), rmse_list, 'r')\n",
    "        plt.xlabel('Número de vizinhos')\n",
    "        plt.ylabel('Raiz do Erro Quadrático Médio')\n",
    "        plt.title('Raiz do Erro Quadrático Médio por n° de vizinhos')\n",
    "\n",
    "        # Adicionando os valores de RMSE em cada ponto\n",
    "        for i, val in enumerate(rmse_list, start=1):\n",
    "            plt.text(i, val, f'{val:.4f}', fontsize=9, ha='center', va='bottom')\n",
    "        plt.show()\n",
    "        print(f\"Melhor RMSE: {best_rmse:.4f} com K = {best_k_rmse}\")\n"
   ]
  },
  {
   "cell_type": "code",
   "execution_count": 152,
   "metadata": {},
   "outputs": [
    {
     "data": {
      "image/png": "[encoded data removed]",
      "text/plain": [
       "<Figure size 1500x500 with 1 Axes>"
      ]
     },
     "metadata": {},
     "output_type": "display_data"
    },
    {
     "name": "stdout",
     "output_type": "stream",
     "text": [
      "Melhor MAE: 5.4804 com K = 10\n"
     ]
    },
    {
     "data": {
      "image/png": "[encoded data removed]",
      "text/plain": [
       "<Figure size 1500x500 with 1 Axes>"
      ]
     },
     "metadata": {},
     "output_type": "display_data"
    },
    {
     "name": "stdout",
     "output_type": "stream",
     "text": [
      "Melhor RMSE: 7.9771 com K = 10\n"
     ]
    }
   ],
   "source": [
    "n_neighbors_visualization(insta_df, features=features, target=target, quant_neighbors=15)"
   ]
  },
  {
   "cell_type": "markdown",
   "metadata": {},
   "source": [
    "Nessa análise, a quantidade de vizinhos que minimizou os erros foi a de K=10."
   ]
  },
  {
   "cell_type": "markdown",
   "metadata": {},
   "source": [
    "# Aprofundamento da escolha dos hiperparâmetros com Bayesian Optimization\n",
    "\n",
    "O modelo anterior foi testado considerando apenas os valores de K (vizinhos), mas a partir de agora o modelo vai ser rodado de maneira mais eficiente no que se trata à escolha de hiperparâmetros. O GridSearch acaba testando todas as combinações de hiperparâmetros, o que traz um alto custo computacional. No entanto, a Otimização Bayesiana testa os hiperparâmetros de forma mais inteligente, o que o torna mais eficiente e traz resultado semelhante ao GridSearch.\n",
    "\n",
    "OBS: Essa é uma base de dados muito pequena, portanto poderíamos sem problemas aplicar o GridSearch, porém, com a justificativa de já se acostumar com uma prática melhor de Machine Learning, estaremos usando a Otimização Bayesiana."
   ]
  },
  {
   "cell_type": "markdown",
   "metadata": {},
   "source": [
    "## Função baseada na minimização do Mean Absolute Error"
   ]
  },
  {
   "cell_type": "code",
   "execution_count": 153,
   "metadata": {},
   "outputs": [],
   "source": [
    "X = insta_df[features]\n",
    "y = insta_df[target]"
   ]
  },
  {
   "cell_type": "code",
   "execution_count": 154,
   "metadata": {},
   "outputs": [],
   "source": [
    "def treinar_knn_mae(params):\n",
    "    neighbors = params[0]\n",
    "    weights = params[1]\n",
    "    algorithm = params[2]\n",
    "    leaf_size = params[3]\n",
    "    p = params[4]\n",
    "    metric = params[5]\n",
    "\n",
    "    modelo = KNeighborsRegressor(n_neighbors=neighbors, \n",
    "                                 weights=weights, \n",
    "                                 algorithm=algorithm, \n",
    "                                 leaf_size=leaf_size, \n",
    "                                 p=p, metric=metric, \n",
    "                                 n_jobs=-1)    #n_jobs=-1 utiliza toda a capacidade disponível para o modelo\n",
    "\n",
    "\n",
    "    # Validação cruzada\n",
    "    y_pred = cross_val_predict(modelo, X, y, cv=10, n_jobs=-1)\n",
    "\n",
    "    mae_CV = mean_absolute_error(y, y_pred)\n",
    "\n",
    "    return mae_CV"
   ]
  },
  {
   "cell_type": "markdown",
   "metadata": {},
   "source": [
    "## Definindo o espaço de busca dos hiperparâmetros"
   ]
  },
  {
   "cell_type": "code",
   "execution_count": 155,
   "metadata": {},
   "outputs": [],
   "source": [
    "from skopt.space import Categorical\n",
    "\n",
    "space = [\n",
    "    (2, 25),   # neighbors\n",
    "    Categorical(['uniform', 'distance'], name='weights'),    # weights\n",
    "    Categorical(['auto', 'ball_tree', 'kd_tree', 'brute'], name='algorithm'),   # algorithm\n",
    "    (10, 50), # leaf_size\n",
    "    (1, 2), # p\n",
    "    Categorical(['minkowski', 'euclidean', 'manhattan'], name='metric'),   # metric\n",
    "]"
   ]
  },
  {
   "cell_type": "code",
   "execution_count": 156,
   "metadata": {},
   "outputs": [
    {
     "name": "stdout",
     "output_type": "stream",
     "text": [
      "Iteration No: 1 started. Evaluating function at random point.\n",
      "Iteration No: 1 ended. Evaluation done at random point.\n",
      "Time taken: 0.0588\n",
      "Function value obtained: 5.5790\n",
      "Current minimum: 5.5790\n",
      "Iteration No: 2 started. Evaluating function at random point.\n",
      "Iteration No: 2 ended. Evaluation done at random point.\n",
      "Time taken: 0.1093\n",
      "Function value obtained: 5.4994\n",
      "Current minimum: 5.4994\n",
      "Iteration No: 3 started. Evaluating function at random point.\n",
      "Iteration No: 3 ended. Evaluation done at random point.\n",
      "Time taken: 0.0494\n",
      "Function value obtained: 5.5393\n",
      "Current minimum: 5.4994\n",
      "Iteration No: 4 started. Evaluating function at random point.\n",
      "Iteration No: 4 ended. Evaluation done at random point.\n",
      "Time taken: 0.1084\n",
      "Function value obtained: 5.9253\n",
      "Current minimum: 5.4994\n",
      "Iteration No: 5 started. Evaluating function at random point.\n",
      "Iteration No: 5 ended. Evaluation done at random point.\n",
      "Time taken: 0.1045\n",
      "Function value obtained: 5.5644\n",
      "Current minimum: 5.4994\n",
      "Iteration No: 6 started. Evaluating function at random point.\n",
      "Iteration No: 6 ended. Evaluation done at random point.\n",
      "Time taken: 0.1048\n",
      "Function value obtained: 5.5258\n",
      "Current minimum: 5.4994\n",
      "Iteration No: 7 started. Evaluating function at random point.\n",
      "Iteration No: 7 ended. Evaluation done at random point.\n",
      "Time taken: 0.1024\n",
      "Function value obtained: 6.0725\n",
      "Current minimum: 5.4994\n",
      "Iteration No: 8 started. Evaluating function at random point.\n",
      "Iteration No: 8 ended. Evaluation done at random point.\n",
      "Time taken: 0.1037\n",
      "Function value obtained: 5.5229\n",
      "Current minimum: 5.4994\n",
      "Iteration No: 9 started. Evaluating function at random point.\n",
      "Iteration No: 9 ended. Evaluation done at random point.\n",
      "Time taken: 0.0539\n",
      "Function value obtained: 5.5715\n",
      "Current minimum: 5.4994\n",
      "Iteration No: 10 started. Evaluating function at random point.\n",
      "Iteration No: 10 ended. Evaluation done at random point.\n",
      "Time taken: 0.9587\n",
      "Function value obtained: 5.5294\n",
      "Current minimum: 5.4994\n",
      "Iteration No: 11 started. Searching for the next optimal point.\n",
      "Iteration No: 11 ended. Search finished for the next optimal point.\n",
      "Time taken: 0.8148\n",
      "Function value obtained: 5.5061\n",
      "Current minimum: 5.4994\n",
      "Iteration No: 12 started. Searching for the next optimal point.\n",
      "Iteration No: 12 ended. Search finished for the next optimal point.\n",
      "Time taken: 1.1277\n",
      "Function value obtained: 5.5094\n",
      "Current minimum: 5.4994\n",
      "Iteration No: 13 started. Searching for the next optimal point.\n",
      "Iteration No: 13 ended. Search finished for the next optimal point.\n",
      "Time taken: 1.1221\n",
      "Function value obtained: 5.4830\n",
      "Current minimum: 5.4830\n",
      "Iteration No: 14 started. Searching for the next optimal point.\n",
      "Iteration No: 14 ended. Search finished for the next optimal point.\n",
      "Time taken: 1.0519\n",
      "Function value obtained: 5.5449\n",
      "Current minimum: 5.4830\n",
      "Iteration No: 15 started. Searching for the next optimal point.\n",
      "Iteration No: 15 ended. Search finished for the next optimal point.\n",
      "Time taken: 0.9394\n",
      "Function value obtained: 6.3287\n",
      "Current minimum: 5.4830\n",
      "Iteration No: 16 started. Searching for the next optimal point.\n",
      "Iteration No: 16 ended. Search finished for the next optimal point.\n",
      "Time taken: 0.9278\n",
      "Function value obtained: 5.5681\n",
      "Current minimum: 5.4830\n",
      "Iteration No: 17 started. Searching for the next optimal point.\n",
      "Iteration No: 17 ended. Search finished for the next optimal point.\n",
      "Time taken: 1.0619\n",
      "Function value obtained: 5.4855\n",
      "Current minimum: 5.4830\n",
      "Iteration No: 18 started. Searching for the next optimal point.\n",
      "Iteration No: 18 ended. Search finished for the next optimal point.\n",
      "Time taken: 1.1267\n",
      "Function value obtained: 5.4908\n",
      "Current minimum: 5.4830\n",
      "Iteration No: 19 started. Searching for the next optimal point.\n",
      "Iteration No: 19 ended. Search finished for the next optimal point.\n",
      "Time taken: 1.0345\n",
      "Function value obtained: 6.3287\n",
      "Current minimum: 5.4830\n",
      "Iteration No: 20 started. Searching for the next optimal point.\n",
      "Iteration No: 20 ended. Search finished for the next optimal point.\n",
      "Time taken: 1.0489\n",
      "Function value obtained: 5.6620\n",
      "Current minimum: 5.4830\n",
      "Iteration No: 21 started. Searching for the next optimal point.\n",
      "Iteration No: 21 ended. Search finished for the next optimal point.\n",
      "Time taken: 0.8260\n",
      "Function value obtained: 5.5105\n",
      "Current minimum: 5.4830\n",
      "Iteration No: 22 started. Searching for the next optimal point.\n",
      "Iteration No: 22 ended. Search finished for the next optimal point.\n",
      "Time taken: 0.7233\n",
      "Function value obtained: 5.5906\n",
      "Current minimum: 5.4830\n",
      "Iteration No: 23 started. Searching for the next optimal point.\n",
      "Iteration No: 23 ended. Search finished for the next optimal point.\n",
      "Time taken: 0.7918\n",
      "Function value obtained: 5.4830\n",
      "Current minimum: 5.4830\n",
      "Iteration No: 24 started. Searching for the next optimal point.\n",
      "Iteration No: 24 ended. Search finished for the next optimal point.\n",
      "Time taken: 0.7418\n",
      "Function value obtained: 5.4414\n",
      "Current minimum: 5.4414\n",
      "Iteration No: 25 started. Searching for the next optimal point.\n",
      "Iteration No: 25 ended. Search finished for the next optimal point.\n",
      "Time taken: 0.7981\n",
      "Function value obtained: 5.4414\n",
      "Current minimum: 5.4414\n",
      "Iteration No: 26 started. Searching for the next optimal point.\n",
      "Iteration No: 26 ended. Search finished for the next optimal point.\n",
      "Time taken: 0.8244\n",
      "Function value obtained: 5.4342\n",
      "Current minimum: 5.4342\n",
      "Iteration No: 27 started. Searching for the next optimal point.\n",
      "Iteration No: 27 ended. Search finished for the next optimal point.\n",
      "Time taken: 1.0745\n",
      "Function value obtained: 5.4342\n",
      "Current minimum: 5.4342\n",
      "Iteration No: 28 started. Searching for the next optimal point.\n",
      "Iteration No: 28 ended. Search finished for the next optimal point.\n",
      "Time taken: 1.0650\n",
      "Function value obtained: 5.4342\n",
      "Current minimum: 5.4342\n",
      "Iteration No: 29 started. Searching for the next optimal point.\n",
      "Iteration No: 29 ended. Search finished for the next optimal point.\n",
      "Time taken: 0.9447\n",
      "Function value obtained: 5.4589\n",
      "Current minimum: 5.4342\n",
      "Iteration No: 30 started. Searching for the next optimal point.\n",
      "Iteration No: 30 ended. Search finished for the next optimal point.\n",
      "Time taken: 0.8578\n",
      "Function value obtained: 5.5016\n",
      "Current minimum: 5.4342\n",
      "Iteration No: 31 started. Searching for the next optimal point.\n",
      "Iteration No: 31 ended. Search finished for the next optimal point.\n",
      "Time taken: 0.9431\n",
      "Function value obtained: 5.4498\n",
      "Current minimum: 5.4342\n",
      "Iteration No: 32 started. Searching for the next optimal point.\n",
      "Iteration No: 32 ended. Search finished for the next optimal point.\n",
      "Time taken: 1.4170\n",
      "Function value obtained: 5.4468\n",
      "Current minimum: 5.4342\n",
      "Iteration No: 33 started. Searching for the next optimal point.\n",
      "Iteration No: 33 ended. Search finished for the next optimal point.\n",
      "Time taken: 1.1300\n",
      "Function value obtained: 5.4414\n",
      "Current minimum: 5.4342\n",
      "Iteration No: 34 started. Searching for the next optimal point.\n",
      "Iteration No: 34 ended. Search finished for the next optimal point.\n",
      "Time taken: 1.1820\n",
      "Function value obtained: 5.4342\n",
      "Current minimum: 5.4342\n",
      "Iteration No: 35 started. Searching for the next optimal point.\n",
      "Iteration No: 35 ended. Search finished for the next optimal point.\n",
      "Time taken: 1.2333\n",
      "Function value obtained: 5.4874\n",
      "Current minimum: 5.4342\n",
      "Iteration No: 36 started. Searching for the next optimal point.\n",
      "Iteration No: 36 ended. Search finished for the next optimal point.\n",
      "Time taken: 0.9684\n",
      "Function value obtained: 5.5270\n",
      "Current minimum: 5.4342\n",
      "Iteration No: 37 started. Searching for the next optimal point.\n",
      "Iteration No: 37 ended. Search finished for the next optimal point.\n",
      "Time taken: 1.4610\n",
      "Function value obtained: 5.5672\n",
      "Current minimum: 5.4342\n",
      "Iteration No: 38 started. Searching for the next optimal point.\n",
      "Iteration No: 38 ended. Search finished for the next optimal point.\n",
      "Time taken: 1.2297\n",
      "Function value obtained: 5.4864\n",
      "Current minimum: 5.4342\n",
      "Iteration No: 39 started. Searching for the next optimal point.\n",
      "Iteration No: 39 ended. Search finished for the next optimal point.\n",
      "Time taken: 1.1602\n",
      "Function value obtained: 5.4327\n",
      "Current minimum: 5.4327\n",
      "Iteration No: 40 started. Searching for the next optimal point.\n",
      "Iteration No: 40 ended. Search finished for the next optimal point.\n",
      "Time taken: 1.2128\n",
      "Function value obtained: 5.5236\n",
      "Current minimum: 5.4327\n",
      "Iteration No: 41 started. Searching for the next optimal point.\n",
      "Iteration No: 41 ended. Search finished for the next optimal point.\n",
      "Time taken: 1.4778\n",
      "Function value obtained: 5.4327\n",
      "Current minimum: 5.4327\n",
      "Iteration No: 42 started. Searching for the next optimal point.\n",
      "Iteration No: 42 ended. Search finished for the next optimal point.\n",
      "Time taken: 1.0015\n",
      "Function value obtained: 5.4760\n",
      "Current minimum: 5.4327\n",
      "Iteration No: 43 started. Searching for the next optimal point.\n",
      "Iteration No: 43 ended. Search finished for the next optimal point.\n",
      "Time taken: 1.3294\n",
      "Function value obtained: 5.4468\n",
      "Current minimum: 5.4327\n",
      "Iteration No: 44 started. Searching for the next optimal point.\n",
      "Iteration No: 44 ended. Search finished for the next optimal point.\n",
      "Time taken: 1.2776\n",
      "Function value obtained: 5.4754\n",
      "Current minimum: 5.4327\n",
      "Iteration No: 45 started. Searching for the next optimal point.\n",
      "Iteration No: 45 ended. Search finished for the next optimal point.\n",
      "Time taken: 1.4361\n",
      "Function value obtained: 5.4881\n",
      "Current minimum: 5.4327\n",
      "Iteration No: 46 started. Searching for the next optimal point.\n",
      "Iteration No: 46 ended. Search finished for the next optimal point.\n",
      "Time taken: 1.3707\n",
      "Function value obtained: 5.4923\n",
      "Current minimum: 5.4327\n",
      "Iteration No: 47 started. Searching for the next optimal point.\n",
      "Iteration No: 47 ended. Search finished for the next optimal point.\n",
      "Time taken: 1.3579\n",
      "Function value obtained: 5.4767\n",
      "Current minimum: 5.4327\n",
      "Iteration No: 48 started. Searching for the next optimal point.\n",
      "Iteration No: 48 ended. Search finished for the next optimal point.\n",
      "Time taken: 1.3206\n",
      "Function value obtained: 5.4498\n",
      "Current minimum: 5.4327\n",
      "Iteration No: 49 started. Searching for the next optimal point.\n",
      "Iteration No: 49 ended. Search finished for the next optimal point.\n",
      "Time taken: 1.8026\n",
      "Function value obtained: 5.5563\n",
      "Current minimum: 5.4327\n",
      "Iteration No: 50 started. Searching for the next optimal point.\n",
      "Iteration No: 50 ended. Search finished for the next optimal point.\n",
      "Time taken: 1.4851\n",
      "Function value obtained: 5.5048\n",
      "Current minimum: 5.4327\n"
     ]
    }
   ],
   "source": [
    "from skopt import gp_minimize\n",
    "resultados_gp = gp_minimize(treinar_knn_mae, space, random_state=42, verbose=1, n_calls=50, n_random_starts=10)"
   ]
  },
  {
   "cell_type": "code",
   "execution_count": 157,
   "metadata": {},
   "outputs": [
    {
     "data": {
      "text/plain": [
       "[18, 'distance', 'ball_tree', 46, 2, 'manhattan']"
      ]
     },
     "execution_count": 157,
     "metadata": {},
     "output_type": "execute_result"
    }
   ],
   "source": [
    "resultados_gp.x"
   ]
  },
  {
   "cell_type": "markdown",
   "metadata": {},
   "source": [
    "## Resultado Bayesian Optimization\n",
    "\n",
    "A Otimização Bayesiana nesse caso fez uma busca com 50 iterações, encontrando um erro absoluto médio de 5.4327 utilizando os hiperparâmetros:\n",
    "\n",
    "n_neighbors= 18\n",
    "\n",
    "weights= 'distance'\n",
    "\n",
    "algorithm= 'ball_tree'\n",
    "\n",
    "leaf_size= 46\n",
    "\n",
    "p= 2\n",
    "\n",
    "metric= 'manhattan'"
   ]
  },
  {
   "cell_type": "markdown",
   "metadata": {},
   "source": [
    "## Rodar um modelo KNN com os hiperparâmetros pré definidos"
   ]
  },
  {
   "cell_type": "code",
   "execution_count": 132,
   "metadata": {},
   "outputs": [
    {
     "name": "stdout",
     "output_type": "stream",
     "text": [
      "Erro absoluto médio: 4.645\n",
      "Erro quadrático médio: 6.797\n"
     ]
    }
   ],
   "source": [
    "X_treino, X_valid, y_treino, y_valid = train_test_split(insta_df[features], insta_df[target], random_state=42, test_size=0.4)\n",
    "\n",
    "knn = KNeighborsRegressor(n_neighbors=18,\n",
    "                          weights='distance',\n",
    "                          algorithm='ball_tree',\n",
    "                          leaf_size=46,\n",
    "                          p=2,\n",
    "                          metric='manhattan',\n",
    "                          n_jobs=-1)\n",
    "\n",
    "knn.fit(X_treino, y_treino)\n",
    "\n",
    "y_pred = knn.predict(X_valid)\n",
    "\n",
    "mae_val = mean_absolute_error(y_pred, y_valid)\n",
    "rmse_val = root_mean_squared_error(y_pred, y_valid)\n",
    "\n",
    "print(f'Erro absoluto médio: {mae_val:.3f}')\n",
    "print(f'Erro quadrático médio: {rmse_val:.3f}')"
   ]
  },
  {
   "cell_type": "markdown",
   "metadata": {},
   "source": [
    "# Considerações finais"
   ]
  },
  {
   "cell_type": "markdown",
   "metadata": {},
   "source": [
    "A base de dados estudada apresentava poucos dados, o que é um limitante do modelo.\n",
    "\n",
    "Nesse estudo da aplicação do kNeighbors regressor, o erro absoluto médio e o erro quadrático médio dese problema foi de 4.6 e 6.8\n",
    "\n",
    "Esses erros significam a diferença média em que o modelo errou para mais ou para menos o valor de 'influence_score', sendo o RMSE mais sensível à outliers (porém não havia tantos outliers) .\n",
    "\n",
    "Os valores de 'influence_score' revelam muita importância no que se trata à publicidade moderna, na qual empresas decidem realizar contratos com influenciadores com bom índice de influência. Essa é uma modelagem interessante e relevante para o contexto das redes sociais e se beneficia com dados de uma maior quantidades de pessoas usuárias do Instagram.\n",
    "\n",
    "Essa análise também pode ser realizada mudando a coluna de target, como por exemplo definir o objetivo de previsão sendo a coluna 'country', e dependendo das outras features, prever de onde o usuário posta. Mas essa seria mais uma análise para treino de Machine Learning com classes desbalanceadas (visto que uma boa maioria dos usuários são dos EUA e Europa), do que com foco em negócios."
   ]
  }
 ],
 "metadata": {
  "kernelspec": {
   "display_name": "Python 3",
   "language": "python",
   "name": "python3"
  },
  "language_info": {
   "codemirror_mode": {
    "name": "ipython",
    "version": 3
   },
   "file_extension": ".py",
   "mimetype": "text/x-python",
   "name": "python",
   "nbconvert_exporter": "python",
   "pygments_lexer": "ipython3",
   "version": "3.12.0"
  }
 },
 "nbformat": 4,
 "nbformat_minor": 2
}
